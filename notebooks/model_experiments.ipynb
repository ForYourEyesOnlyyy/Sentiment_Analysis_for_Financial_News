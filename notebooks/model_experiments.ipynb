{
 "cells": [
  {
   "cell_type": "code",
   "execution_count": 2,
   "metadata": {},
   "outputs": [
    {
     "data": {
      "text/html": [
       "<div>\n",
       "<style scoped>\n",
       "    .dataframe tbody tr th:only-of-type {\n",
       "        vertical-align: middle;\n",
       "    }\n",
       "\n",
       "    .dataframe tbody tr th {\n",
       "        vertical-align: top;\n",
       "    }\n",
       "\n",
       "    .dataframe thead th {\n",
       "        text-align: right;\n",
       "    }\n",
       "</style>\n",
       "<table border=\"1\" class=\"dataframe\">\n",
       "  <thead>\n",
       "    <tr style=\"text-align: right;\">\n",
       "      <th></th>\n",
       "      <th>text</th>\n",
       "      <th>label</th>\n",
       "    </tr>\n",
       "  </thead>\n",
       "  <tbody>\n",
       "    <tr>\n",
       "      <th>0</th>\n",
       "      <td>Copa Holdings stock price target raised to $13...</td>\n",
       "      <td>1</td>\n",
       "    </tr>\n",
       "    <tr>\n",
       "      <th>1</th>\n",
       "      <td>News Corporation (NWS): Hedge Funds Are Snappi...</td>\n",
       "      <td>1</td>\n",
       "    </tr>\n",
       "    <tr>\n",
       "      <th>2</th>\n",
       "      <td>$ALXN: Alexion Pharma issues statement in rega...</td>\n",
       "      <td>2</td>\n",
       "    </tr>\n",
       "    <tr>\n",
       "      <th>3</th>\n",
       "      <td>The Federal Reserve on Monday rolled out an ex...</td>\n",
       "      <td>2</td>\n",
       "    </tr>\n",
       "    <tr>\n",
       "      <th>4</th>\n",
       "      <td>Stock Market Update: Stock market lifted by me...</td>\n",
       "      <td>1</td>\n",
       "    </tr>\n",
       "  </tbody>\n",
       "</table>\n",
       "</div>"
      ],
      "text/plain": [
       "                                                text  label\n",
       "0  Copa Holdings stock price target raised to $13...      1\n",
       "1  News Corporation (NWS): Hedge Funds Are Snappi...      1\n",
       "2  $ALXN: Alexion Pharma issues statement in rega...      2\n",
       "3  The Federal Reserve on Monday rolled out an ex...      2\n",
       "4  Stock Market Update: Stock market lifted by me...      1"
      ]
     },
     "execution_count": 2,
     "metadata": {},
     "output_type": "execute_result"
    }
   ],
   "source": [
    "import pandas as pd\n",
    "df = pd.read_csv(\"../data/processed/twitter-financial-news-sentiment/samples/sample1.csv\")\n",
    "df.head()"
   ]
  },
  {
   "cell_type": "code",
   "execution_count": 4,
   "metadata": {},
   "outputs": [],
   "source": [
    "import re\n",
    "\n",
    "def process_source_links(row):\n",
    "    if 'https' in row['text']:\n",
    "        row['text'] = re.sub(r'http\\S+', '', row['text']).strip()\n",
    "        row['has_source'] = 1\n",
    "    else:\n",
    "        row['has_source'] = 0\n",
    "    return row\n",
    "\n",
    "df = df.apply(process_source_links, axis=1)"
   ]
  },
  {
   "cell_type": "code",
   "execution_count": 26,
   "metadata": {},
   "outputs": [],
   "source": [
    "from sklearn.model_selection import train_test_split\n",
    "\n",
    "from transformers import AutoTokenizer\n",
    "import torch\n",
    "from torch.utils.data import Dataset, DataLoader\n",
    "\n",
    "class FinancialTweetsDataset(Dataset):\n",
    "\n",
    "    def __init__(self, texts, has_source, labels, tokenizer, max_length=100):\n",
    "        self.texts = texts\n",
    "        self.has_source = has_source\n",
    "        self.labels = labels\n",
    "        self.tokenizer = tokenizer\n",
    "        self.max_length = max_length\n",
    "\n",
    "    def __len__(self):\n",
    "        return len(self.texts)\n",
    "\n",
    "    def __getitem__(self, idx):\n",
    "        text = self.texts[idx]\n",
    "        label = self.labels[idx]\n",
    "        has_source = self.has_source[idx]\n",
    "\n",
    "        encoding = self.tokenizer(text,\n",
    "                                  padding=\"max_length\",\n",
    "                                  max_length=self.max_length,\n",
    "                                  return_tensors='pt')\n",
    "\n",
    "        return {\n",
    "            'input_ids': encoding['input_ids'].squeeze(),\n",
    "            'attention_mask': encoding['attention_mask'].squeeze(),\n",
    "            'has_source': torch.tensor(has_source, dtype=torch.float),\n",
    "            'labels': torch.tensor(label, dtype=torch.long)\n",
    "        }\n",
    "\n",
    "\n",
    "def split_and_get_loaders(data, ratio=0.33, batch_size=32, tokenizer='bert'):\n",
    "    X = data.drop(columns=['label'])\n",
    "    y = data['label']\n",
    "    X_train, X_test, y_train, y_test = train_test_split(X,\n",
    "                                                        y,\n",
    "                                                        test_size=ratio,\n",
    "                                                        random_state=42)\n",
    "\n",
    "    if tokenizer == \"bert\":\n",
    "        tok = AutoTokenizer.from_pretrained('bert-base-uncased')\n",
    "\n",
    "        train_dataset = FinancialTweetsDataset(X_train['text'].tolist(),\n",
    "                                               X_train['has_source'].tolist(),\n",
    "                                               y_train.tolist(), tok)\n",
    "        val_dataset = FinancialTweetsDataset(X_test['text'].tolist(),\n",
    "                                             X_test['has_source'].tolist(),\n",
    "                                             y_test.tolist(), tok)\n",
    "\n",
    "        train_dataloader = DataLoader(dataset=train_dataset,\n",
    "                                      batch_size=batch_size,\n",
    "                                      shuffle=True)\n",
    "        val_dataloader = DataLoader(dataset=val_dataset,\n",
    "                                    batch_size=batch_size,\n",
    "                                    shuffle=False)\n",
    "        return train_dataloader, val_dataloader"
   ]
  },
  {
   "cell_type": "code",
   "execution_count": 27,
   "metadata": {},
   "outputs": [
    {
     "name": "stderr",
     "output_type": "stream",
     "text": [
      "/Users/maxmartyshov/Desktop/IU/year3/PMDL/Sentiment_Analysis_for_Financial_News/.venv/lib/python3.12/site-packages/transformers/tokenization_utils_base.py:1601: FutureWarning: `clean_up_tokenization_spaces` was not set. It will be set to `True` by default. This behavior will be depracted in transformers v4.45, and will be then set to `False` by default. For more details check this issue: https://github.com/huggingface/transformers/issues/31884\n",
      "  warnings.warn(\n"
     ]
    }
   ],
   "source": [
    "train_loader, val_loader = split_and_get_loaders(df)"
   ]
  },
  {
   "cell_type": "code",
   "execution_count": 28,
   "metadata": {},
   "outputs": [],
   "source": [
    "import torch.nn as nn\n",
    "from transformers import BertModel\n",
    "\n",
    "class SentimentAnalysisModel(nn.Module):\n",
    "    def __init__(self, bert_model_name='bert-base-uncased', num_labels=3):\n",
    "        super(SentimentAnalysisModel, self).__init__()\n",
    "\n",
    "        self.bert = BertModel.from_pretrained(bert_model_name)\n",
    "\n",
    "        self.linear1 = nn.Linear(self.bert.config.hidden_size + 1, num_labels)\n",
    "\n",
    "        self.dropout = nn.Dropout(0.3)\n",
    "\n",
    "    def forward(self, input_ids, attention_mask, has_source):\n",
    "        embeddings = self.bert(input_ids=input_ids, attention_mask=attention_mask).pooler_output\n",
    "        has_source = has_source.unsqueeze(1) \n",
    "        combined_input = torch.cat((embeddings, has_source), dim=1)\n",
    "\n",
    "        regularized = self.dropout(combined_input)\n",
    "        logits = self.linear1(regularized)\n",
    "\n",
    "        return logits\n"
   ]
  },
  {
   "cell_type": "code",
   "execution_count": 29,
   "metadata": {},
   "outputs": [],
   "source": [
    "from tqdm import tqdm\n",
    "\n",
    "def train_one_epoch(model, dataloader, optimizer, criterion, device, epoch):\n",
    "    model.train()\n",
    "    train_loss = 0.0\n",
    "    total = 0.\n",
    "\n",
    "    loop = tqdm(\n",
    "        enumerate(dataloader, 1),\n",
    "        total=len(dataloader),\n",
    "        desc=f\"Epoch {epoch}: train\",\n",
    "        leave=True,\n",
    "    )\n",
    "\n",
    "    for i, batch in loop:\n",
    "        input_ids = batch['input_ids'].to(device)\n",
    "        attention_mask = batch['attention_mask'].to(device)\n",
    "        has_source = batch['has_source'].to(device)\n",
    "        labels = batch['labels'].to(device)\n",
    "\n",
    "        optimizer.zero_grad()\n",
    "\n",
    "        logits = model(input_ids = input_ids, attention_mask=attention_mask, has_source=has_source)\n",
    "\n",
    "        loss = criterion(logits, labels)\n",
    "\n",
    "        loss.backward()\n",
    "        optimizer.step()\n",
    "\n",
    "        train_loss += loss.item() * input_ids.size(0)\n",
    "        total += labels.size(0)\n",
    "\n",
    "        loop.set_postfix({\"loss\": train_loss/total})\n",
    "\n",
    "\n",
    "def val_one_epoch(model, dataloader, criterion, device, epoch, best_so_far, ckpt_path='best.pt'):\n",
    "    model.eval()\n",
    "    val_loss = 0.\n",
    "    correct = 0.\n",
    "    total = 0.\n",
    "    with torch.no_grad():\n",
    "        loop = tqdm(\n",
    "            enumerate(dataloader, 1),\n",
    "            total=len(dataloader),\n",
    "            desc=f\"Epoch {epoch}: val\",\n",
    "            leave=True,\n",
    "        )\n",
    "        for i, batch in loop:\n",
    "            input_ids = batch['input_ids'].to(device)\n",
    "            attention_mask = batch['attention_mask'].to(device)\n",
    "            has_source = batch['has_source'].to(device)\n",
    "            labels = batch['labels'].to(device)\n",
    "\n",
    "            logits = model(input_ids=input_ids, attention_mask=attention_mask, has_source=has_source)\n",
    "\n",
    "            loss = criterion(logits, labels)\n",
    "            val_loss += loss.item() * input_ids.size(0)\n",
    "\n",
    "            _, preds = torch.max(logits, dim=1)\n",
    "            correct += (preds == labels).sum().item()\n",
    "\n",
    "            total += labels.size(0)\n",
    "\n",
    "            loop.set_postfix({\"loss\": val_loss/total, \"acc\": correct / total})\n",
    "\n",
    "        current_acc = correct / total\n",
    "        if current_acc > best_so_far:\n",
    "            print(f\"Validation accuracy improved from {best_so_far:.4f} to {current_acc:.4f}. Saving model...\")\n",
    "            torch.save(model.state_dict(), ckpt_path)\n",
    "            best_so_far = current_acc\n",
    "    return best_so_far\n",
    "\n"
   ]
  },
  {
   "cell_type": "code",
   "execution_count": 30,
   "metadata": {},
   "outputs": [
    {
     "name": "stderr",
     "output_type": "stream",
     "text": [
      "Epoch 0: train: 100%|██████████| 106/106 [00:37<00:00,  2.83it/s, loss=0.882]\n",
      "Epoch 0: val: 100%|██████████| 52/52 [00:06<00:00,  8.33it/s, loss=0.587, acc=0.782]\n"
     ]
    },
    {
     "name": "stdout",
     "output_type": "stream",
     "text": [
      "Validation accuracy improved from 0.0000 to 0.7818. Saving model...\n"
     ]
    },
    {
     "name": "stderr",
     "output_type": "stream",
     "text": [
      "Epoch 1: train: 100%|██████████| 106/106 [00:37<00:00,  2.86it/s, loss=0.501]\n",
      "Epoch 1: val: 100%|██████████| 52/52 [00:06<00:00,  8.58it/s, loss=0.58, acc=0.787] \n"
     ]
    },
    {
     "name": "stdout",
     "output_type": "stream",
     "text": [
      "Validation accuracy improved from 0.7818 to 0.7866. Saving model...\n"
     ]
    },
    {
     "name": "stderr",
     "output_type": "stream",
     "text": [
      "Epoch 2: train: 100%|██████████| 106/106 [00:36<00:00,  2.92it/s, loss=0.308]\n",
      "Epoch 2: val: 100%|██████████| 52/52 [00:05<00:00,  8.88it/s, loss=0.52, acc=0.817] \n"
     ]
    },
    {
     "name": "stdout",
     "output_type": "stream",
     "text": [
      "Validation accuracy improved from 0.7866 to 0.8168. Saving model...\n"
     ]
    },
    {
     "name": "stderr",
     "output_type": "stream",
     "text": [
      "Epoch 3: train: 100%|██████████| 106/106 [00:36<00:00,  2.87it/s, loss=0.18] \n",
      "Epoch 3: val: 100%|██████████| 52/52 [00:05<00:00,  8.74it/s, loss=0.538, acc=0.835]\n"
     ]
    },
    {
     "name": "stdout",
     "output_type": "stream",
     "text": [
      "Validation accuracy improved from 0.8168 to 0.8348. Saving model...\n"
     ]
    },
    {
     "name": "stderr",
     "output_type": "stream",
     "text": [
      "Epoch 4: train: 100%|██████████| 106/106 [00:37<00:00,  2.84it/s, loss=0.114]\n",
      "Epoch 4: val: 100%|██████████| 52/52 [00:06<00:00,  8.62it/s, loss=0.616, acc=0.826]\n",
      "Epoch 5: train: 100%|██████████| 106/106 [00:37<00:00,  2.83it/s, loss=0.0726]\n",
      "Epoch 5: val: 100%|██████████| 52/52 [00:06<00:00,  8.35it/s, loss=0.653, acc=0.827]\n",
      "Epoch 6: train: 100%|██████████| 106/106 [00:37<00:00,  2.79it/s, loss=0.058] \n",
      "Epoch 6: val: 100%|██████████| 52/52 [00:06<00:00,  8.32it/s, loss=0.704, acc=0.826]\n",
      "Epoch 7: train: 100%|██████████| 106/106 [00:38<00:00,  2.77it/s, loss=0.0427]\n",
      "Epoch 7: val: 100%|██████████| 52/52 [00:06<00:00,  8.28it/s, loss=0.748, acc=0.819]\n",
      "Epoch 8: train: 100%|██████████| 106/106 [00:39<00:00,  2.68it/s, loss=0.0321]\n",
      "Epoch 8: val: 100%|██████████| 52/52 [00:06<00:00,  7.87it/s, loss=0.709, acc=0.829]\n",
      "Epoch 9: train: 100%|██████████| 106/106 [00:42<00:00,  2.51it/s, loss=0.0219]\n",
      "Epoch 9: val: 100%|██████████| 52/52 [00:07<00:00,  7.34it/s, loss=0.836, acc=0.828]\n"
     ]
    }
   ],
   "source": [
    "import torch.optim as optim\n",
    "\n",
    "epochs = 10\n",
    "device = 'mps'\n",
    "chechpoint_path = 'models/best.pt'\n",
    "\n",
    "model = SentimentAnalysisModel(bert_model_name='bert-base-uncased', num_labels=3).to(device)\n",
    "criterion = nn.CrossEntropyLoss()  \n",
    "optimizer = optim.Adam(model.parameters(), lr=2e-5)\n",
    "\n",
    "best_so_far = 0.\n",
    "\n",
    "for epoch in range(epochs):\n",
    "    train_one_epoch(model, train_loader, optimizer, criterion, device, epoch)\n",
    "    best_so_far = val_one_epoch(model, val_loader, criterion, device, epoch, best_so_far, chechpoint_path)"
   ]
  },
  {
   "cell_type": "code",
   "execution_count": null,
   "metadata": {},
   "outputs": [],
   "source": []
  }
 ],
 "metadata": {
  "kernelspec": {
   "display_name": ".venv",
   "language": "python",
   "name": "python3"
  },
  "language_info": {
   "codemirror_mode": {
    "name": "ipython",
    "version": 3
   },
   "file_extension": ".py",
   "mimetype": "text/x-python",
   "name": "python",
   "nbconvert_exporter": "python",
   "pygments_lexer": "ipython3",
   "version": "3.12.6"
  }
 },
 "nbformat": 4,
 "nbformat_minor": 2
}

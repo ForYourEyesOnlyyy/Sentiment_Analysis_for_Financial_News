{
 "cells": [
  {
   "cell_type": "code",
   "execution_count": 3,
   "metadata": {},
   "outputs": [],
   "source": [
    "import os\n",
    "\n",
    "def get_project_root() -> str:\n",
    "    return os.path.abspath(os.path.join(os.getcwd(), \"../\"))"
   ]
  },
  {
   "cell_type": "code",
   "execution_count": 4,
   "metadata": {},
   "outputs": [
    {
     "name": "stdout",
     "output_type": "stream",
     "text": [
      "/Users/maxmartyshov/Desktop/IU/year3/PMDL/Sentiment_Analysis_for_Financial_News\n"
     ]
    }
   ],
   "source": [
    "print(get_project_root())"
   ]
  },
  {
   "cell_type": "code",
   "execution_count": 5,
   "metadata": {},
   "outputs": [],
   "source": [
    "import sys \n",
    "\n",
    "src_path = os.path.join(get_project_root(), 'src')\n",
    "piplines_path = os.path.join(get_project_root(), 'pipelines')\n",
    "sys.path.append(src_path)\n",
    "sys.path.append(piplines_path)"
   ]
  },
  {
   "cell_type": "code",
   "execution_count": null,
   "metadata": {},
   "outputs": [],
   "source": [
    "from extract_training_data import extract_latest_loaders\n",
    "\n",
    "dataloaders = extract_latest_loaders()\n",
    "train_loader = dataloaders['train']\n",
    "val_loader = dataloaders['validation']"
   ]
  },
  {
   "cell_type": "code",
   "execution_count": 99,
   "metadata": {},
   "outputs": [],
   "source": [
    "def get_input_example():\n",
    "    batch = next(iter(train_loader))\n",
    "\n",
    "    # Move the batch to CPU if needed (for logging purposes)\n",
    "    for key in batch:\n",
    "        batch[key] = batch[key].cpu()\n",
    "\n",
    "    # Prepare the input example\n",
    "    return {\n",
    "        \"input_ids\": batch[\"input_ids\"],\n",
    "        \"attention_mask\": batch[\"attention_mask\"],\n",
    "        \"has_source\": batch[\"has_source\"]\n",
    "    }"
   ]
  },
  {
   "cell_type": "code",
   "execution_count": 100,
   "metadata": {},
   "outputs": [],
   "source": [
    "import torch.nn as nn\n",
    "import torch\n",
    "\n",
    "from transformers import BertModel\n",
    "\n",
    "\n",
    "class SentimentAnalysisModel(nn.Module):\n",
    "    def __init__(self, bert_model_name='bert-base-uncased', num_labels=3):\n",
    "        super(SentimentAnalysisModel, self).__init__()\n",
    "\n",
    "        self.bert = BertModel.from_pretrained(bert_model_name)\n",
    "\n",
    "        self.linear1 = nn.Linear(self.bert.config.hidden_size + 1, num_labels)\n",
    "\n",
    "        self.dropout = nn.Dropout(0.3)\n",
    "\n",
    "    def forward(self, input_ids, attention_mask, has_source):\n",
    "        embeddings = self.bert(input_ids=input_ids, attention_mask=attention_mask).pooler_output\n",
    "        has_source = has_source.unsqueeze(1) \n",
    "        combined_input = torch.cat((embeddings, has_source), dim=1)\n",
    "\n",
    "        regularized = self.dropout(combined_input)\n",
    "        logits = self.linear1(regularized)\n",
    "\n",
    "        return logits\n"
   ]
  },
  {
   "cell_type": "code",
   "execution_count": 101,
   "metadata": {},
   "outputs": [],
   "source": [
    "from tqdm import tqdm\n",
    "\n",
    "import mlflow\n",
    "import mlflow.pytorch\n",
    "\n",
    "def train_one_epoch(model, dataloader, optimizer, criterion, device, epoch):\n",
    "    model.train()\n",
    "    train_loss = 0.0\n",
    "    total = 0.\n",
    "\n",
    "    loop = tqdm(\n",
    "        enumerate(dataloader, 1),\n",
    "        total=len(dataloader),\n",
    "        desc=f\"Epoch {epoch}: train\",\n",
    "        leave=True,\n",
    "    )\n",
    "\n",
    "    for _, batch in loop:\n",
    "        input_ids = batch['input_ids'].to(device)\n",
    "        attention_mask = batch['attention_mask'].to(device)\n",
    "        has_source = batch['has_source'].to(device)\n",
    "        labels = batch['labels'].to(device)\n",
    "\n",
    "        optimizer.zero_grad()\n",
    "\n",
    "        logits = model(input_ids = input_ids, attention_mask=attention_mask, has_source=has_source)\n",
    "\n",
    "        loss = criterion(logits, labels)\n",
    "\n",
    "        loss.backward()\n",
    "        optimizer.step()\n",
    "\n",
    "        train_loss += loss.item() * input_ids.size(0)\n",
    "        total += labels.size(0)\n",
    "\n",
    "        loop.set_postfix({\"loss\": train_loss/total})\n",
    "\n",
    "    avg_train_loss = train_loss / total\n",
    "    mlflow.log_metric('train_loss', avg_train_loss, step=epoch)\n",
    "\n",
    "\n",
    "def val_one_epoch(model, dataloader, criterion, device, epoch, best_so_far, ckpt_name='model'):\n",
    "    model.eval()\n",
    "    val_loss = 0.\n",
    "    correct = 0.\n",
    "    total = 0.\n",
    "    with torch.no_grad():\n",
    "        loop = tqdm(\n",
    "            enumerate(dataloader, 1),\n",
    "            total=len(dataloader),\n",
    "            desc=f\"Epoch {epoch}: val\",\n",
    "            leave=True,\n",
    "        )\n",
    "        for i, batch in loop:\n",
    "            input_ids = batch['input_ids'].to(device)\n",
    "            attention_mask = batch['attention_mask'].to(device)\n",
    "            has_source = batch['has_source'].to(device)\n",
    "            labels = batch['labels'].to(device)\n",
    "\n",
    "            logits = model(input_ids=input_ids, attention_mask=attention_mask, has_source=has_source)\n",
    "\n",
    "            loss = criterion(logits, labels)\n",
    "            val_loss += loss.item() * input_ids.size(0)\n",
    "\n",
    "            _, preds = torch.max(logits, dim=1)\n",
    "            correct += (preds == labels).sum().item()\n",
    "\n",
    "            total += labels.size(0)\n",
    "\n",
    "            loop.set_postfix({\"loss\": val_loss/total, \"acc\": correct / total})\n",
    "        current_acc = correct / total\n",
    "\n",
    "        avg_val_loss = val_loss / total\n",
    "        mlflow.log_metric('validation_loss', avg_val_loss, step=epoch)\n",
    "        mlflow.log_metric('validation_accuracy', current_acc, step=epoch)\n",
    "\n",
    "\n",
    "        if current_acc > best_so_far:\n",
    "            print(f\"Validation accuracy improved from {best_so_far:.4f} to {current_acc:.4f}. Saving model...\")\n",
    "            mlflow.pytorch.log_model(model, ckpt_name)\n",
    "\n",
    "            best_so_far = current_acc\n",
    "    return best_so_far"
   ]
  },
  {
   "cell_type": "code",
   "execution_count": 102,
   "metadata": {},
   "outputs": [],
   "source": [
    "from mlflow.tracking import MlflowClient\n",
    "\n",
    "def register_model(run_id, model_name, description):\n",
    "    \"\"\"\n",
    "    Registers the incoming model from the specified run without modifying the Champion tag.\n",
    "    \n",
    "    Parameters:\n",
    "    - run_id: str, the ID of the run where the model is logged.\n",
    "    - model_name: str, the name of the model in the registry.\n",
    "    - description: str, a description for the model version.\n",
    "    \n",
    "    Returns:\n",
    "    - version: int, the version of the registered model.\n",
    "    \"\"\"\n",
    "    client = MlflowClient()\n",
    "    model_uri = f\"runs:/{run_id}/{model_name}\"\n",
    "    result = mlflow.register_model(model_uri, model_name)\n",
    "    print(f\"Model registered with name '{model_name}' and version '{result.version}'\")\n",
    "    client.update_model_version(\n",
    "        name=model_name,\n",
    "        version=result.version,\n",
    "        description=description,\n",
    "    )\n",
    "    return result.version\n"
   ]
  },
  {
   "cell_type": "code",
   "execution_count": 103,
   "metadata": {},
   "outputs": [],
   "source": [
    "def update_champion_alias(model_name, metric_name=\"validation_accuracy\"):\n",
    "    \"\"\"\n",
    "    Goes through all model versions, checks their metrics, and assigns the \"Champion\" alias to the best-performing model.\n",
    "    \n",
    "    Parameters:\n",
    "    - model_name: str, the name of the model in the MLflow Model Registry.\n",
    "    - metric_name: str, the metric to base the Champion selection on (default is 'accuracy').\n",
    "    \n",
    "    Returns:\n",
    "    - champion_version: int, the version of the model that is now assigned the \"Champion\" alias.\n",
    "    \"\"\"\n",
    "    client = MlflowClient()\n",
    "    \n",
    "    # Search for all registered versions of the model\n",
    "    versions = client.search_model_versions(f\"name='{model_name}'\")\n",
    "    \n",
    "    # Initialize variables to track the best version based on the metric\n",
    "    best_version = None\n",
    "    best_metric_value = -float('inf')  # Assume we're maximizing the metric (e.g., accuracy)\n",
    "    best_run_id = None\n",
    "\n",
    "    # Go through all versions to find the one with the best metric\n",
    "    for version in versions:\n",
    "        run_id = version.run_id\n",
    "        # Get the run's metrics\n",
    "        run = client.get_run(run_id)\n",
    "        \n",
    "        if metric_name in run.data.metrics:\n",
    "            metric_value = run.data.metrics[metric_name]\n",
    "            if metric_value > best_metric_value:\n",
    "                best_metric_value = metric_value\n",
    "                best_version = version.version\n",
    "                best_run_id = run_id\n",
    "    \n",
    "    # Check if a best version was found\n",
    "    if best_version is None:\n",
    "        raise ValueError(f\"No models found with metric '{metric_name}'\")\n",
    "\n",
    "    # Reassign the \"champion\" alias to the best version\n",
    "    client.set_registered_model_alias(\n",
    "        name=model_name,\n",
    "        alias=\"champion\",\n",
    "        version=best_version\n",
    "    )\n",
    "    print(f\"Model version {best_version} from run {best_run_id} assigned as 'champion' with {metric_name}: {best_metric_value}\")\n",
    "\n",
    "    return best_version\n"
   ]
  },
  {
   "cell_type": "code",
   "execution_count": 105,
   "metadata": {},
   "outputs": [
    {
     "name": "stderr",
     "output_type": "stream",
     "text": [
      "Epoch 0: train: 100%|██████████| 106/106 [00:42<00:00,  2.47it/s, loss=0.86] \n",
      "Epoch 0: val: 100%|██████████| 52/52 [00:07<00:00,  6.80it/s, loss=0.612, acc=0.762]\n"
     ]
    },
    {
     "name": "stdout",
     "output_type": "stream",
     "text": [
      "Validation accuracy improved from 0.0000 to 0.7619. Saving model...\n"
     ]
    },
    {
     "name": "stderr",
     "output_type": "stream",
     "text": [
      "2024/10/11 16:39:57 WARNING mlflow.models.model: Model logged without a signature and input example. Please set `input_example` parameter when logging the model to auto infer the model signature.\n",
      "Epoch 1: train: 100%|██████████| 106/106 [00:53<00:00,  1.99it/s, loss=0.477]\n",
      "Epoch 1: val: 100%|██████████| 52/52 [00:09<00:00,  5.39it/s, loss=0.498, acc=0.817]\n"
     ]
    },
    {
     "name": "stdout",
     "output_type": "stream",
     "text": [
      "Validation accuracy improved from 0.7619 to 0.8168. Saving model...\n"
     ]
    },
    {
     "name": "stderr",
     "output_type": "stream",
     "text": [
      "2024/10/11 16:41:03 WARNING mlflow.models.model: Model logged without a signature and input example. Please set `input_example` parameter when logging the model to auto infer the model signature.\n",
      "Epoch 2: train: 100%|██████████| 106/106 [01:02<00:00,  1.70it/s, loss=0.277]\n",
      "Epoch 2: val: 100%|██████████| 52/52 [00:10<00:00,  5.04it/s, loss=0.49, acc=0.835] \n"
     ]
    },
    {
     "name": "stdout",
     "output_type": "stream",
     "text": [
      "Validation accuracy improved from 0.8168 to 0.8348. Saving model...\n"
     ]
    },
    {
     "name": "stderr",
     "output_type": "stream",
     "text": [
      "2024/10/11 16:42:19 WARNING mlflow.models.model: Model logged without a signature and input example. Please set `input_example` parameter when logging the model to auto infer the model signature.\n"
     ]
    },
    {
     "name": "stdout",
     "output_type": "stream",
     "text": [
      "Model registered with name 'simple_sentiment_analysis_model' and version '2'\n",
      "Model version 2 from run be0b25db674f4b2793939799d9ce6b11 assigned as 'champion' with validation_accuracy: 0.8348402652200121\n"
     ]
    },
    {
     "name": "stderr",
     "output_type": "stream",
     "text": [
      "Registered model 'simple_sentiment_analysis_model' already exists. Creating a new version of this model...\n",
      "Created version '2' of model 'simple_sentiment_analysis_model'.\n"
     ]
    }
   ],
   "source": [
    "import torch.optim as optim\n",
    "import os\n",
    "os.environ[\"TOKENIZERS_PARALLELISM\"] = \"false\"\n",
    "project_root = os.path.abspath(os.path.join(os.getcwd(), \"../\"))\n",
    "mlflow.set_tracking_uri(f\"file://{project_root}/mlruns\")\n",
    "\n",
    "epochs = 3\n",
    "device = 'mps'\n",
    "model_name = 'simple_sentiment_analysis_model'\n",
    "lr = 2e-5\n",
    "\n",
    "model_desctiption = \"BERT, 1 fc layer, 0.3 dropout\"\n",
    "\n",
    "model = SentimentAnalysisModel(bert_model_name='bert-base-uncased', num_labels=3).to(device)\n",
    "criterion = nn.CrossEntropyLoss()  \n",
    "optimizer = optim.Adam(model.parameters(), lr=lr)\n",
    "\n",
    "best_so_far = 0.\n",
    "mlflow.set_experiment(\"SentimentAnalysis\")\n",
    "\n",
    "with mlflow.start_run():\n",
    "    mlflow.log_param(\"learning_rate\", 2e-5)\n",
    "    mlflow.log_param(\"epochs\", epochs)\n",
    "    run = mlflow.active_run()\n",
    "    run_id = run.info.run_id\n",
    "    for epoch in range(epochs):\n",
    "        train_one_epoch(model, train_loader, optimizer, criterion, device, epoch)\n",
    "        best_so_far = val_one_epoch(model, val_loader, criterion, device, epoch, best_so_far, model_name)\n",
    "    register_model(run_id, model_name, model_desctiption)\n",
    "    update_champion_alias(model_name)"
   ]
  },
  {
   "cell_type": "code",
   "execution_count": null,
   "metadata": {},
   "outputs": [],
   "source": [
    " "
   ]
  }
 ],
 "metadata": {
  "kernelspec": {
   "display_name": ".venv",
   "language": "python",
   "name": "python3"
  },
  "language_info": {
   "codemirror_mode": {
    "name": "ipython",
    "version": 3
   },
   "file_extension": ".py",
   "mimetype": "text/x-python",
   "name": "python",
   "nbconvert_exporter": "python",
   "pygments_lexer": "ipython3",
   "version": "3.12.6"
  }
 },
 "nbformat": 4,
 "nbformat_minor": 2
}

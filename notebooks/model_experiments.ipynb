{
 "cells": [
  {
   "cell_type": "code",
   "execution_count": 2,
   "metadata": {},
   "outputs": [
    {
     "data": {
      "text/html": [
       "<div>\n",
       "<style scoped>\n",
       "    .dataframe tbody tr th:only-of-type {\n",
       "        vertical-align: middle;\n",
       "    }\n",
       "\n",
       "    .dataframe tbody tr th {\n",
       "        vertical-align: top;\n",
       "    }\n",
       "\n",
       "    .dataframe thead th {\n",
       "        text-align: right;\n",
       "    }\n",
       "</style>\n",
       "<table border=\"1\" class=\"dataframe\">\n",
       "  <thead>\n",
       "    <tr style=\"text-align: right;\">\n",
       "      <th></th>\n",
       "      <th>text</th>\n",
       "      <th>label</th>\n",
       "    </tr>\n",
       "  </thead>\n",
       "  <tbody>\n",
       "    <tr>\n",
       "      <th>0</th>\n",
       "      <td>Copa Holdings stock price target raised to $13...</td>\n",
       "      <td>1</td>\n",
       "    </tr>\n",
       "    <tr>\n",
       "      <th>1</th>\n",
       "      <td>News Corporation (NWS): Hedge Funds Are Snappi...</td>\n",
       "      <td>1</td>\n",
       "    </tr>\n",
       "    <tr>\n",
       "      <th>2</th>\n",
       "      <td>$ALXN: Alexion Pharma issues statement in rega...</td>\n",
       "      <td>2</td>\n",
       "    </tr>\n",
       "    <tr>\n",
       "      <th>3</th>\n",
       "      <td>The Federal Reserve on Monday rolled out an ex...</td>\n",
       "      <td>2</td>\n",
       "    </tr>\n",
       "    <tr>\n",
       "      <th>4</th>\n",
       "      <td>Stock Market Update: Stock market lifted by me...</td>\n",
       "      <td>1</td>\n",
       "    </tr>\n",
       "  </tbody>\n",
       "</table>\n",
       "</div>"
      ],
      "text/plain": [
       "                                                text  label\n",
       "0  Copa Holdings stock price target raised to $13...      1\n",
       "1  News Corporation (NWS): Hedge Funds Are Snappi...      1\n",
       "2  $ALXN: Alexion Pharma issues statement in rega...      2\n",
       "3  The Federal Reserve on Monday rolled out an ex...      2\n",
       "4  Stock Market Update: Stock market lifted by me...      1"
      ]
     },
     "execution_count": 2,
     "metadata": {},
     "output_type": "execute_result"
    }
   ],
   "source": [
    "import pandas as pd\n",
    "df = pd.read_csv(\"../data/processed/twitter-financial-news-sentiment/samples/sample1.csv\")\n",
    "df.head()"
   ]
  },
  {
   "cell_type": "code",
   "execution_count": 4,
   "metadata": {},
   "outputs": [],
   "source": [
    "import re\n",
    "\n",
    "def process_source_links(row):\n",
    "    if 'https' in row['text']:\n",
    "        row['text'] = re.sub(r'http\\S+', '', row['text']).strip()\n",
    "        row['has_source'] = 1\n",
    "    else:\n",
    "        row['has_source'] = 0\n",
    "    return row\n",
    "\n",
    "df = df.apply(process_source_links, axis=1)"
   ]
  },
  {
   "cell_type": "code",
   "execution_count": 26,
   "metadata": {},
   "outputs": [],
   "source": [
    "from sklearn.model_selection import train_test_split\n",
    "\n",
    "from transformers import AutoTokenizer\n",
    "import torch\n",
    "from torch.utils.data import Dataset, DataLoader\n",
    "\n",
    "class FinancialTweetsDataset(Dataset):\n",
    "\n",
    "    def __init__(self, texts, has_source, labels, tokenizer, max_length=100):\n",
    "        self.texts = texts\n",
    "        self.has_source = has_source\n",
    "        self.labels = labels\n",
    "        self.tokenizer = tokenizer\n",
    "        self.max_length = max_length\n",
    "\n",
    "    def __len__(self):\n",
    "        return len(self.texts)\n",
    "\n",
    "    def __getitem__(self, idx):\n",
    "        text = self.texts[idx]\n",
    "        label = self.labels[idx]\n",
    "        has_source = self.has_source[idx]\n",
    "\n",
    "        encoding = self.tokenizer(text,\n",
    "                                  padding=\"max_length\",\n",
    "                                  max_length=self.max_length,\n",
    "                                  return_tensors='pt')\n",
    "\n",
    "        return {\n",
    "            'input_ids': encoding['input_ids'].squeeze(),\n",
    "            'attention_mask': encoding['attention_mask'].squeeze(),\n",
    "            'has_source': torch.tensor(has_source, dtype=torch.float),\n",
    "            'labels': torch.tensor(label, dtype=torch.long)\n",
    "        }\n",
    "\n",
    "\n",
    "def split_and_get_loaders(data, ratio=0.33, batch_size=32, tokenizer='bert'):\n",
    "    X = data.drop(columns=['label'])\n",
    "    y = data['label']\n",
    "    X_train, X_test, y_train, y_test = train_test_split(X,\n",
    "                                                        y,\n",
    "                                                        test_size=ratio,\n",
    "                                                        random_state=42)\n",
    "\n",
    "    if tokenizer == \"bert\":\n",
    "        tok = AutoTokenizer.from_pretrained('bert-base-uncased')\n",
    "\n",
    "        train_dataset = FinancialTweetsDataset(X_train['text'].tolist(),\n",
    "                                               X_train['has_source'].tolist(),\n",
    "                                               y_train.tolist(), tok)\n",
    "        val_dataset = FinancialTweetsDataset(X_test['text'].tolist(),\n",
    "                                             X_test['has_source'].tolist(),\n",
    "                                             y_test.tolist(), tok)\n",
    "\n",
    "        train_dataloader = DataLoader(dataset=train_dataset,\n",
    "                                      batch_size=batch_size,\n",
    "                                      shuffle=True)\n",
    "        val_dataloader = DataLoader(dataset=val_dataset,\n",
    "                                    batch_size=batch_size,\n",
    "                                    shuffle=False)\n",
    "        return train_dataloader, val_dataloader"
   ]
  },
  {
   "cell_type": "code",
   "execution_count": 7,
   "metadata": {},
   "outputs": [
    {
     "name": "stdout",
     "output_type": "stream",
     "text": [
      "Pipeline artifact [: 1c535be5-fc01-42c9-b1bd-a82f30a727c8] loaded successfully\n"
     ]
    }
   ],
   "source": [
    "from pipline_extract import extract_latest_loaders\n",
    "\n",
    "dataloaders = extract_latest_loaders()\n",
    "train_loader = dataloaders['train']\n",
    "val_loader = dataloaders['validation']"
   ]
  },
  {
   "cell_type": "code",
   "execution_count": 8,
   "metadata": {},
   "outputs": [],
   "source": [
    "import torch.nn as nn\n",
    "from transformers import BertModel\n",
    "\n",
    "class SentimentAnalysisModel(nn.Module):\n",
    "    def __init__(self, bert_model_name='bert-base-uncased', num_labels=3):\n",
    "        super(SentimentAnalysisModel, self).__init__()\n",
    "\n",
    "        self.bert = BertModel.from_pretrained(bert_model_name)\n",
    "\n",
    "        self.linear1 = nn.Linear(self.bert.config.hidden_size + 1, num_labels)\n",
    "\n",
    "        self.dropout = nn.Dropout(0.3)\n",
    "\n",
    "    def forward(self, input_ids, attention_mask, has_source):\n",
    "        embeddings = self.bert(input_ids=input_ids, attention_mask=attention_mask).pooler_output\n",
    "        has_source = has_source.unsqueeze(1) \n",
    "        combined_input = torch.cat((embeddings, has_source), dim=1)\n",
    "\n",
    "        regularized = self.dropout(combined_input)\n",
    "        logits = self.linear1(regularized)\n",
    "\n",
    "        return logits\n"
   ]
  },
  {
   "cell_type": "code",
   "execution_count": 10,
   "metadata": {},
   "outputs": [],
   "source": [
    "from tqdm import tqdm\n",
    "\n",
    "def train_one_epoch(model, dataloader, optimizer, criterion, device, epoch):\n",
    "    model.train()\n",
    "    train_loss = 0.0\n",
    "    total = 0.\n",
    "\n",
    "    loop = tqdm(\n",
    "        enumerate(dataloader, 1),\n",
    "        total=len(dataloader),\n",
    "        desc=f\"Epoch {epoch}: train\",\n",
    "        leave=True,\n",
    "    )\n",
    "\n",
    "    for i, batch in loop:\n",
    "        input_ids = batch['input_ids'].to(device)\n",
    "        attention_mask = batch['attention_mask'].to(device)\n",
    "        has_source = batch['has_source'].to(device)\n",
    "        labels = batch['labels'].to(device)\n",
    "\n",
    "        optimizer.zero_grad()\n",
    "\n",
    "        logits = model(input_ids = input_ids, attention_mask=attention_mask, has_source=has_source)\n",
    "\n",
    "        loss = criterion(logits, labels)\n",
    "\n",
    "        loss.backward()\n",
    "        optimizer.step()\n",
    "\n",
    "        train_loss += loss.item() * input_ids.size(0)\n",
    "        total += labels.size(0)\n",
    "\n",
    "        loop.set_postfix({\"loss\": train_loss/total})\n",
    "\n",
    "\n",
    "def val_one_epoch(model, dataloader, criterion, device, epoch, best_so_far, ckpt_path='best.pt'):\n",
    "    model.eval()\n",
    "    val_loss = 0.\n",
    "    correct = 0.\n",
    "    total = 0.\n",
    "    with torch.no_grad():\n",
    "        loop = tqdm(\n",
    "            enumerate(dataloader, 1),\n",
    "            total=len(dataloader),\n",
    "            desc=f\"Epoch {epoch}: val\",\n",
    "            leave=True,\n",
    "        )\n",
    "        for i, batch in loop:\n",
    "            input_ids = batch['input_ids'].to(device)\n",
    "            attention_mask = batch['attention_mask'].to(device)\n",
    "            has_source = batch['has_source'].to(device)\n",
    "            labels = batch['labels'].to(device)\n",
    "\n",
    "            logits = model(input_ids=input_ids, attention_mask=attention_mask, has_source=has_source)\n",
    "\n",
    "            loss = criterion(logits, labels)\n",
    "            val_loss += loss.item() * input_ids.size(0)\n",
    "\n",
    "            _, preds = torch.max(logits, dim=1)\n",
    "            correct += (preds == labels).sum().item()\n",
    "\n",
    "            total += labels.size(0)\n",
    "\n",
    "            loop.set_postfix({\"loss\": val_loss/total, \"acc\": correct / total})\n",
    "\n",
    "        current_acc = correct / total\n",
    "        if current_acc > best_so_far:\n",
    "            print(f\"Validation accuracy improved from {best_so_far:.4f} to {current_acc:.4f}. Saving model...\")\n",
    "            torch.save(model.state_dict(), ckpt_path)\n",
    "            best_so_far = current_acc\n",
    "    return best_so_far\n",
    "\n"
   ]
  },
  {
   "cell_type": "code",
   "execution_count": 12,
   "metadata": {},
   "outputs": [
    {
     "name": "stderr",
     "output_type": "stream",
     "text": [
      "Epoch 0: train: 100%|██████████| 106/106 [00:21<00:00,  4.93it/s, loss=0.816]\n",
      "Epoch 0: val: 100%|██████████| 52/52 [00:03<00:00, 15.01it/s, loss=0.561, acc=0.778]\n"
     ]
    },
    {
     "name": "stdout",
     "output_type": "stream",
     "text": [
      "Validation accuracy improved from 0.0000 to 0.7782. Saving model...\n"
     ]
    },
    {
     "name": "stderr",
     "output_type": "stream",
     "text": [
      "Epoch 1: train: 100%|██████████| 106/106 [00:19<00:00,  5.32it/s, loss=0.447]\n",
      "Epoch 1: val: 100%|██████████| 52/52 [00:03<00:00, 17.14it/s, loss=0.488, acc=0.81] \n"
     ]
    },
    {
     "name": "stdout",
     "output_type": "stream",
     "text": [
      "Validation accuracy improved from 0.7782 to 0.8101. Saving model...\n"
     ]
    },
    {
     "name": "stderr",
     "output_type": "stream",
     "text": [
      "Epoch 2: train: 100%|██████████| 106/106 [00:20<00:00,  5.23it/s, loss=0.265]\n",
      "Epoch 2: val: 100%|██████████| 52/52 [00:03<00:00, 16.51it/s, loss=0.484, acc=0.826]\n"
     ]
    },
    {
     "name": "stdout",
     "output_type": "stream",
     "text": [
      "Validation accuracy improved from 0.8101 to 0.8258. Saving model...\n"
     ]
    },
    {
     "name": "stderr",
     "output_type": "stream",
     "text": [
      "Epoch 3: train: 100%|██████████| 106/106 [00:20<00:00,  5.14it/s, loss=0.15] \n",
      "Epoch 3: val: 100%|██████████| 52/52 [00:03<00:00, 16.55it/s, loss=0.552, acc=0.827]\n"
     ]
    },
    {
     "name": "stdout",
     "output_type": "stream",
     "text": [
      "Validation accuracy improved from 0.8258 to 0.8270. Saving model...\n"
     ]
    },
    {
     "name": "stderr",
     "output_type": "stream",
     "text": [
      "Epoch 4: train: 100%|██████████| 106/106 [00:20<00:00,  5.16it/s, loss=0.0888]\n",
      "Epoch 4: val: 100%|██████████| 52/52 [00:03<00:00, 16.54it/s, loss=0.647, acc=0.812]\n",
      "Epoch 5: train: 100%|██████████| 106/106 [00:20<00:00,  5.20it/s, loss=0.0729]\n",
      "Epoch 5: val: 100%|██████████| 52/52 [00:03<00:00, 16.60it/s, loss=0.682, acc=0.832]\n"
     ]
    },
    {
     "name": "stdout",
     "output_type": "stream",
     "text": [
      "Validation accuracy improved from 0.8270 to 0.8324. Saving model...\n"
     ]
    },
    {
     "name": "stderr",
     "output_type": "stream",
     "text": [
      "Epoch 6: train: 100%|██████████| 106/106 [00:20<00:00,  5.17it/s, loss=0.0467]\n",
      "Epoch 6: val: 100%|██████████| 52/52 [00:03<00:00, 16.61it/s, loss=0.995, acc=0.773]\n",
      "Epoch 7: train: 100%|██████████| 106/106 [00:20<00:00,  5.20it/s, loss=0.0334]\n",
      "Epoch 7: val: 100%|██████████| 52/52 [00:03<00:00, 16.62it/s, loss=0.757, acc=0.825]\n",
      "Epoch 8: train: 100%|██████████| 106/106 [00:20<00:00,  5.13it/s, loss=0.0179]\n",
      "Epoch 8: val: 100%|██████████| 52/52 [00:03<00:00, 16.72it/s, loss=0.828, acc=0.824]\n",
      "Epoch 9: train: 100%|██████████| 106/106 [00:20<00:00,  5.15it/s, loss=0.0112]\n",
      "Epoch 9: val: 100%|██████████| 52/52 [00:03<00:00, 16.63it/s, loss=0.85, acc=0.834] \n"
     ]
    },
    {
     "name": "stdout",
     "output_type": "stream",
     "text": [
      "Validation accuracy improved from 0.8324 to 0.8336. Saving model...\n"
     ]
    }
   ],
   "source": [
    "import torch\n",
    "import torch.optim as optim\n",
    "\n",
    "epochs = 10\n",
    "device = 'mps'\n",
    "chechpoint_path = 'models/best.pt'\n",
    "\n",
    "model = SentimentAnalysisModel(bert_model_name='bert-base-uncased', num_labels=3).to(device)\n",
    "criterion = nn.CrossEntropyLoss()  \n",
    "optimizer = optim.Adam(model.parameters(), lr=2e-5)\n",
    "\n",
    "best_so_far = 0.\n",
    "\n",
    "for epoch in range(epochs):\n",
    "    train_one_epoch(model, train_loader, optimizer, criterion, device, epoch)\n",
    "    best_so_far = val_one_epoch(model, val_loader, criterion, device, epoch, best_so_far, chechpoint_path)"
   ]
  },
  {
   "cell_type": "code",
   "execution_count": null,
   "metadata": {},
   "outputs": [],
   "source": []
  }
 ],
 "metadata": {
  "kernelspec": {
   "display_name": ".venv",
   "language": "python",
   "name": "python3"
  },
  "language_info": {
   "codemirror_mode": {
    "name": "ipython",
    "version": 3
   },
   "file_extension": ".py",
   "mimetype": "text/x-python",
   "name": "python",
   "nbconvert_exporter": "python",
   "pygments_lexer": "ipython3",
   "version": "3.12.6"
  }
 },
 "nbformat": 4,
 "nbformat_minor": 2
}

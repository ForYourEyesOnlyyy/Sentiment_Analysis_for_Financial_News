{
 "cells": [
  {
   "cell_type": "code",
   "execution_count": 54,
   "metadata": {},
   "outputs": [],
   "source": [
    "import sys \n",
    "sys.path.append(\"/Users/maxmartyshov/Desktop/IU/year3/PMDL/Sentiment_Analysis_for_Financial_News/src\")"
   ]
  },
  {
   "cell_type": "code",
   "execution_count": 55,
   "metadata": {},
   "outputs": [
    {
     "name": "stdout",
     "output_type": "stream",
     "text": [
      "Pipeline artifact [: ae9e60fe-78f1-4f14-becc-d3b5837abed6] loaded successfully\n"
     ]
    }
   ],
   "source": [
    "from pipline_extract import extract_latest_loaders\n",
    "\n",
    "dataloaders = extract_latest_loaders()\n",
    "train_loader = dataloaders['train']\n",
    "val_loader = dataloaders['validation']"
   ]
  },
  {
   "cell_type": "code",
   "execution_count": 56,
   "metadata": {},
   "outputs": [],
   "source": [
    "def get_input_example():\n",
    "    batch = next(iter(train_loader))\n",
    "\n",
    "    # Move the batch to CPU if needed (for logging purposes)\n",
    "    for key in batch:\n",
    "        batch[key] = batch[key].cpu()\n",
    "\n",
    "    # Prepare the input example\n",
    "    return {\n",
    "        \"input_ids\": batch[\"input_ids\"],\n",
    "        \"attention_mask\": batch[\"attention_mask\"],\n",
    "        \"has_source\": batch[\"has_source\"]\n",
    "    }"
   ]
  },
  {
   "cell_type": "code",
   "execution_count": 57,
   "metadata": {},
   "outputs": [],
   "source": [
    "import torch.nn as nn\n",
    "import torch\n",
    "\n",
    "from transformers import BertModel\n",
    "\n",
    "\n",
    "class SentimentAnalysisModel(nn.Module):\n",
    "    def __init__(self, bert_model_name='bert-base-uncased', num_labels=3):\n",
    "        super(SentimentAnalysisModel, self).__init__()\n",
    "\n",
    "        self.bert = BertModel.from_pretrained(bert_model_name)\n",
    "\n",
    "        self.linear1 = nn.Linear(self.bert.config.hidden_size + 1, num_labels)\n",
    "\n",
    "        self.dropout = nn.Dropout(0.3)\n",
    "\n",
    "    def forward(self, input_ids, attention_mask, has_source):\n",
    "        embeddings = self.bert(input_ids=input_ids, attention_mask=attention_mask).pooler_output\n",
    "        has_source = has_source.unsqueeze(1) \n",
    "        combined_input = torch.cat((embeddings, has_source), dim=1)\n",
    "\n",
    "        regularized = self.dropout(combined_input)\n",
    "        logits = self.linear1(regularized)\n",
    "\n",
    "        return logits\n"
   ]
  },
  {
   "cell_type": "code",
   "execution_count": 58,
   "metadata": {},
   "outputs": [],
   "source": [
    "from tqdm import tqdm\n",
    "\n",
    "import mlflow\n",
    "import mlflow.pytorch\n",
    "\n",
    "def train_one_epoch(model, dataloader, optimizer, criterion, device, epoch):\n",
    "    model.train()\n",
    "    train_loss = 0.0\n",
    "    total = 0.\n",
    "\n",
    "    loop = tqdm(\n",
    "        enumerate(dataloader, 1),\n",
    "        total=len(dataloader),\n",
    "        desc=f\"Epoch {epoch}: train\",\n",
    "        leave=True,\n",
    "    )\n",
    "\n",
    "    for _, batch in loop:\n",
    "        input_ids = batch['input_ids'].to(device)\n",
    "        attention_mask = batch['attention_mask'].to(device)\n",
    "        has_source = batch['has_source'].to(device)\n",
    "        labels = batch['labels'].to(device)\n",
    "\n",
    "        optimizer.zero_grad()\n",
    "\n",
    "        logits = model(input_ids = input_ids, attention_mask=attention_mask, has_source=has_source)\n",
    "\n",
    "        loss = criterion(logits, labels)\n",
    "\n",
    "        loss.backward()\n",
    "        optimizer.step()\n",
    "\n",
    "        train_loss += loss.item() * input_ids.size(0)\n",
    "        total += labels.size(0)\n",
    "\n",
    "        loop.set_postfix({\"loss\": train_loss/total})\n",
    "\n",
    "    avg_train_loss = train_loss / total\n",
    "    mlflow.log_metric('train_loss', avg_train_loss, step=epoch)\n",
    "\n",
    "\n",
    "def val_one_epoch(model, dataloader, criterion, device, epoch, best_so_far, ckpt_name='model'):\n",
    "    model.eval()\n",
    "    val_loss = 0.\n",
    "    correct = 0.\n",
    "    total = 0.\n",
    "    with torch.no_grad():\n",
    "        loop = tqdm(\n",
    "            enumerate(dataloader, 1),\n",
    "            total=len(dataloader),\n",
    "            desc=f\"Epoch {epoch}: val\",\n",
    "            leave=True,\n",
    "        )\n",
    "        for i, batch in loop:\n",
    "            input_ids = batch['input_ids'].to(device)\n",
    "            attention_mask = batch['attention_mask'].to(device)\n",
    "            has_source = batch['has_source'].to(device)\n",
    "            labels = batch['labels'].to(device)\n",
    "\n",
    "            logits = model(input_ids=input_ids, attention_mask=attention_mask, has_source=has_source)\n",
    "\n",
    "            loss = criterion(logits, labels)\n",
    "            val_loss += loss.item() * input_ids.size(0)\n",
    "\n",
    "            _, preds = torch.max(logits, dim=1)\n",
    "            correct += (preds == labels).sum().item()\n",
    "\n",
    "            total += labels.size(0)\n",
    "\n",
    "            loop.set_postfix({\"loss\": val_loss/total, \"acc\": correct / total})\n",
    "        current_acc = correct / total\n",
    "\n",
    "        avg_val_loss = val_loss / total\n",
    "        mlflow.log_metric('validation_loss', avg_val_loss, step=epoch)\n",
    "        mlflow.log_metric('validation_accuracy', current_acc, step=epoch)\n",
    "\n",
    "\n",
    "        if current_acc > best_so_far:\n",
    "            print(f\"Validation accuracy improved from {best_so_far:.4f} to {current_acc:.4f}. Saving model...\")\n",
    "            mlflow.pytorch.log_model(model, ckpt_name)\n",
    "\n",
    "            best_so_far = current_acc\n",
    "    return best_so_far\n",
    "\n"
   ]
  },
  {
   "cell_type": "code",
   "execution_count": 59,
   "metadata": {},
   "outputs": [],
   "source": [
    "from mlflow.tracking import MlflowClient\n",
    "\n",
    "def register_model(run_id, model_name, description):\n",
    "    client = MlflowClient()\n",
    "    model_uri = f\"runs:/{run_id}/{model_name}\"\n",
    "    result = mlflow.register_model(model_uri, model_name)\n",
    "    print(f\"Model registered with name '{model_name}' and version '{result.version}'\")\n",
    "    client.update_model_version(\n",
    "        name=model_name,\n",
    "        version=result.version,\n",
    "        description=description,\n",
    "    )\n",
    "    return result.version\n"
   ]
  },
  {
   "cell_type": "code",
   "execution_count": 66,
   "metadata": {},
   "outputs": [
    {
     "name": "stderr",
     "output_type": "stream",
     "text": [
      "2024/10/11 14:15:40 INFO mlflow.tracking.fluent: Experiment with name 'SentimentAnalysis' does not exist. Creating a new experiment.\n",
      "Epoch 0: train: 100%|██████████| 106/106 [00:36<00:00,  2.87it/s, loss=0.886]\n",
      "Epoch 0: val: 100%|██████████| 52/52 [00:05<00:00,  8.85it/s, loss=0.626, acc=0.757]\n"
     ]
    },
    {
     "name": "stdout",
     "output_type": "stream",
     "text": [
      "Validation accuracy improved from 0.0000 to 0.7571. Saving model...\n"
     ]
    },
    {
     "name": "stderr",
     "output_type": "stream",
     "text": [
      "2024/10/11 14:16:26 WARNING mlflow.models.model: Model logged without a signature and input example. Please set `input_example` parameter when logging the model to auto infer the model signature.\n",
      "Epoch 1: train: 100%|██████████| 106/106 [00:39<00:00,  2.71it/s, loss=0.549]\n",
      "Epoch 1: val: 100%|██████████| 52/52 [00:06<00:00,  8.30it/s, loss=0.555, acc=0.784]\n"
     ]
    },
    {
     "name": "stdout",
     "output_type": "stream",
     "text": [
      "Validation accuracy improved from 0.7571 to 0.7836. Saving model...\n"
     ]
    },
    {
     "name": "stderr",
     "output_type": "stream",
     "text": [
      "2024/10/11 14:17:15 WARNING mlflow.models.model: Model logged without a signature and input example. Please set `input_example` parameter when logging the model to auto infer the model signature.\n",
      "Epoch 2: train: 100%|██████████| 106/106 [00:38<00:00,  2.74it/s, loss=0.324]\n",
      "Epoch 2: val: 100%|██████████| 52/52 [00:06<00:00,  8.24it/s, loss=0.526, acc=0.805]\n"
     ]
    },
    {
     "name": "stdout",
     "output_type": "stream",
     "text": [
      "Validation accuracy improved from 0.7836 to 0.8053. Saving model...\n"
     ]
    },
    {
     "name": "stderr",
     "output_type": "stream",
     "text": [
      "2024/10/11 14:18:03 WARNING mlflow.models.model: Model logged without a signature and input example. Please set `input_example` parameter when logging the model to auto infer the model signature.\n",
      "Epoch 3: train: 100%|██████████| 106/106 [00:39<00:00,  2.65it/s, loss=0.183]\n",
      "Epoch 3: val: 100%|██████████| 52/52 [00:06<00:00,  7.92it/s, loss=0.574, acc=0.817]\n"
     ]
    },
    {
     "name": "stdout",
     "output_type": "stream",
     "text": [
      "Validation accuracy improved from 0.8053 to 0.8174. Saving model...\n"
     ]
    },
    {
     "name": "stderr",
     "output_type": "stream",
     "text": [
      "2024/10/11 14:18:53 WARNING mlflow.models.model: Model logged without a signature and input example. Please set `input_example` parameter when logging the model to auto infer the model signature.\n",
      "Epoch 4: train: 100%|██████████| 106/106 [00:43<00:00,  2.45it/s, loss=0.0988]\n",
      "Epoch 4: val: 100%|██████████| 52/52 [00:07<00:00,  7.03it/s, loss=0.627, acc=0.806]\n",
      "Epoch 5: train: 100%|██████████| 106/106 [00:52<00:00,  2.00it/s, loss=0.0648]\n",
      "Epoch 5: val: 100%|██████████| 52/52 [00:09<00:00,  5.33it/s, loss=0.674, acc=0.818]\n"
     ]
    },
    {
     "name": "stdout",
     "output_type": "stream",
     "text": [
      "Validation accuracy improved from 0.8174 to 0.8180. Saving model...\n"
     ]
    },
    {
     "name": "stderr",
     "output_type": "stream",
     "text": [
      "2024/10/11 14:20:50 WARNING mlflow.models.model: Model logged without a signature and input example. Please set `input_example` parameter when logging the model to auto infer the model signature.\n",
      "Epoch 6: train: 100%|██████████| 106/106 [00:58<00:00,  1.81it/s, loss=0.0453]\n",
      "Epoch 6: val: 100%|██████████| 52/52 [00:09<00:00,  5.70it/s, loss=0.707, acc=0.825]\n"
     ]
    },
    {
     "name": "stdout",
     "output_type": "stream",
     "text": [
      "Validation accuracy improved from 0.8180 to 0.8252. Saving model...\n"
     ]
    },
    {
     "name": "stderr",
     "output_type": "stream",
     "text": [
      "2024/10/11 14:22:01 WARNING mlflow.models.model: Model logged without a signature and input example. Please set `input_example` parameter when logging the model to auto infer the model signature.\n",
      "Epoch 7: train: 100%|██████████| 106/106 [00:50<00:00,  2.10it/s, loss=0.0304]\n",
      "Epoch 7: val: 100%|██████████| 52/52 [00:07<00:00,  6.55it/s, loss=0.741, acc=0.823]\n",
      "Epoch 8: train: 100%|██████████| 106/106 [00:46<00:00,  2.26it/s, loss=0.0311]\n",
      "Epoch 8: val: 100%|██████████| 52/52 [00:07<00:00,  6.70it/s, loss=0.856, acc=0.82] \n",
      "Epoch 9: train: 100%|██████████| 106/106 [00:47<00:00,  2.24it/s, loss=0.0271]\n",
      "Epoch 9: val: 100%|██████████| 52/52 [00:07<00:00,  7.11it/s, loss=0.827, acc=0.815]"
     ]
    },
    {
     "name": "stdout",
     "output_type": "stream",
     "text": [
      "Model registered with name 'simple_sentiment_analysis_model' and version '1'\n"
     ]
    },
    {
     "name": "stderr",
     "output_type": "stream",
     "text": [
      "\n",
      "Successfully registered model 'simple_sentiment_analysis_model'.\n",
      "Created version '1' of model 'simple_sentiment_analysis_model'.\n"
     ]
    }
   ],
   "source": [
    "import torch.optim as optim\n",
    "import os\n",
    "os.environ[\"TOKENIZERS_PARALLELISM\"] = \"false\"\n",
    "project_root = os.path.abspath(os.path.join(os.getcwd(), \"../\"))  # Assuming notebook is in the notebooks folder\n",
    "mlflow.set_tracking_uri(f\"file://{project_root}/mlruns\")\n",
    "\n",
    "epochs = 10\n",
    "device = 'mps'\n",
    "model_name = 'simple_sentiment_analysis_model'\n",
    "lr = 2e-5\n",
    "\n",
    "model_desctiption = \"BERT, 1 fc layer, 0.3 dropout\"\n",
    "\n",
    "model = SentimentAnalysisModel(bert_model_name='bert-base-uncased', num_labels=3).to(device)\n",
    "criterion = nn.CrossEntropyLoss()  \n",
    "optimizer = optim.Adam(model.parameters(), lr=lr)\n",
    "\n",
    "best_so_far = 0.\n",
    "mlflow.set_experiment(\"SentimentAnalysis\")\n",
    "\n",
    "with mlflow.start_run():\n",
    "    mlflow.log_param(\"learning_rate\", 2e-5)\n",
    "    mlflow.log_param(\"epochs\", epochs)\n",
    "    run = mlflow.active_run()\n",
    "    run_id = run.info.run_id\n",
    "    for epoch in range(epochs):\n",
    "        train_one_epoch(model, train_loader, optimizer, criterion, device, epoch)\n",
    "        best_so_far = val_one_epoch(model, val_loader, criterion, device, epoch, best_so_far, model_name)\n",
    "    register_model(run_id, model_name, model_desctiption)"
   ]
  },
  {
   "cell_type": "code",
   "execution_count": 67,
   "metadata": {},
   "outputs": [],
   "source": [
    "model = mlflow.pytorch.load_model(model_uri=f\"models:/{model_name}/latest\")"
   ]
  },
  {
   "cell_type": "code",
   "execution_count": 68,
   "metadata": {},
   "outputs": [
    {
     "name": "stdout",
     "output_type": "stream",
     "text": [
      "SentimentAnalysisModel(\n",
      "  (bert): BertModel(\n",
      "    (embeddings): BertEmbeddings(\n",
      "      (word_embeddings): Embedding(30522, 768, padding_idx=0)\n",
      "      (position_embeddings): Embedding(512, 768)\n",
      "      (token_type_embeddings): Embedding(2, 768)\n",
      "      (LayerNorm): LayerNorm((768,), eps=1e-12, elementwise_affine=True)\n",
      "      (dropout): Dropout(p=0.1, inplace=False)\n",
      "    )\n",
      "    (encoder): BertEncoder(\n",
      "      (layer): ModuleList(\n",
      "        (0-11): 12 x BertLayer(\n",
      "          (attention): BertAttention(\n",
      "            (self): BertSdpaSelfAttention(\n",
      "              (query): Linear(in_features=768, out_features=768, bias=True)\n",
      "              (key): Linear(in_features=768, out_features=768, bias=True)\n",
      "              (value): Linear(in_features=768, out_features=768, bias=True)\n",
      "              (dropout): Dropout(p=0.1, inplace=False)\n",
      "            )\n",
      "            (output): BertSelfOutput(\n",
      "              (dense): Linear(in_features=768, out_features=768, bias=True)\n",
      "              (LayerNorm): LayerNorm((768,), eps=1e-12, elementwise_affine=True)\n",
      "              (dropout): Dropout(p=0.1, inplace=False)\n",
      "            )\n",
      "          )\n",
      "          (intermediate): BertIntermediate(\n",
      "            (dense): Linear(in_features=768, out_features=3072, bias=True)\n",
      "            (intermediate_act_fn): GELUActivation()\n",
      "          )\n",
      "          (output): BertOutput(\n",
      "            (dense): Linear(in_features=3072, out_features=768, bias=True)\n",
      "            (LayerNorm): LayerNorm((768,), eps=1e-12, elementwise_affine=True)\n",
      "            (dropout): Dropout(p=0.1, inplace=False)\n",
      "          )\n",
      "        )\n",
      "      )\n",
      "    )\n",
      "    (pooler): BertPooler(\n",
      "      (dense): Linear(in_features=768, out_features=768, bias=True)\n",
      "      (activation): Tanh()\n",
      "    )\n",
      "  )\n",
      "  (linear1): Linear(in_features=769, out_features=3, bias=True)\n",
      "  (dropout): Dropout(p=0.3, inplace=False)\n",
      ")\n"
     ]
    }
   ],
   "source": [
    "print(model)"
   ]
  },
  {
   "cell_type": "code",
   "execution_count": null,
   "metadata": {},
   "outputs": [],
   "source": [
    " "
   ]
  }
 ],
 "metadata": {
  "kernelspec": {
   "display_name": ".venv",
   "language": "python",
   "name": "python3"
  },
  "language_info": {
   "codemirror_mode": {
    "name": "ipython",
    "version": 3
   },
   "file_extension": ".py",
   "mimetype": "text/x-python",
   "name": "python",
   "nbconvert_exporter": "python",
   "pygments_lexer": "ipython3",
   "version": "3.12.6"
  }
 },
 "nbformat": 4,
 "nbformat_minor": 2
}

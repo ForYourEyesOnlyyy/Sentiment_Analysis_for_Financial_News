{
 "cells": [
  {
   "cell_type": "code",
   "execution_count": 1,
   "metadata": {},
   "outputs": [],
   "source": [
    "import great_expectations as gx\n",
    "from great_expectations.data_context import FileDataContext\n",
    "import pandas as pd\n",
    "import os\n",
    "\n",
    "# Initialize the DataContext\n",
    "if not os.path.exists('../services/gx'):\n",
    "    FileDataContext(project_root_dir = \"../services\")\n",
    "context = gx.get_context(project_root_dir = \"../services\")\n",
    "\n",
    "# Add or update the pandas datasource\n",
    "ds = context.sources.add_or_update_pandas(name = \"pandas_datasource1\")\n",
    "\n",
    "da1 = ds.add_csv_asset(\n",
    "    name = \"csv_file1\",\n",
    "    filepath_or_buffer=\"../data/dvc/sample.csv\"\n",
    ")\n",
    "\n",
    "# Build batch request\n",
    "batch_request = da1.build_batch_request()\n",
    "\n",
    "# Create a new expectation suite\n",
    "suite_name = \"initial_feature_validation\"\n",
    "context.add_or_update_expectation_suite(suite_name)\n",
    "\n",
    "# Get validator for the batch and expectation suite\n",
    "validator = context.get_validator(\n",
    "    batch_request=batch_request,\n",
    "    expectation_suite_name=suite_name\n",
    ")\n",
    "\n",
    "# Step 3: Create expectations to validate all features\n",
    "# Load data\n",
    "# data = pd.read_csv('../data/dvc/sample.csv')"
   ]
  },
  {
   "cell_type": "code",
   "execution_count": 2,
   "metadata": {},
   "outputs": [
    {
     "data": {
      "application/vnd.jupyter.widget-view+json": {
       "model_id": "ee763a7775da43bdbe4f5e03e7757719",
       "version_major": 2,
       "version_minor": 0
      },
      "text/plain": [
       "Calculating Metrics:   0%|          | 0/2 [00:00<?, ?it/s]"
      ]
     },
     "metadata": {},
     "output_type": "display_data"
    },
    {
     "data": {
      "application/vnd.jupyter.widget-view+json": {
       "model_id": "88fb530a23b54628858bfd67c5cba41b",
       "version_major": 2,
       "version_minor": 0
      },
      "text/plain": [
       "Calculating Metrics:   0%|          | 0/2 [00:00<?, ?it/s]"
      ]
     },
     "metadata": {},
     "output_type": "display_data"
    },
    {
     "data": {
      "application/vnd.jupyter.widget-view+json": {
       "model_id": "47d5b77fa499438289cfdc04ad0264a9",
       "version_major": 2,
       "version_minor": 0
      },
      "text/plain": [
       "Calculating Metrics:   0%|          | 0/6 [00:00<?, ?it/s]"
      ]
     },
     "metadata": {},
     "output_type": "display_data"
    },
    {
     "data": {
      "application/vnd.jupyter.widget-view+json": {
       "model_id": "8dcad3c7862d4f74bec7e32539e5341d",
       "version_major": 2,
       "version_minor": 0
      },
      "text/plain": [
       "Calculating Metrics:   0%|          | 0/6 [00:00<?, ?it/s]"
      ]
     },
     "metadata": {},
     "output_type": "display_data"
    },
    {
     "data": {
      "application/vnd.jupyter.widget-view+json": {
       "model_id": "f7e5286a5d614c6a850a276db5660a41",
       "version_major": 2,
       "version_minor": 0
      },
      "text/plain": [
       "Calculating Metrics:   0%|          | 0/8 [00:00<?, ?it/s]"
      ]
     },
     "metadata": {},
     "output_type": "display_data"
    },
    {
     "data": {
      "application/vnd.jupyter.widget-view+json": {
       "model_id": "782909b3de214ed18902140844de1b0d",
       "version_major": 2,
       "version_minor": 0
      },
      "text/plain": [
       "Calculating Metrics:   0%|          | 0/1 [00:00<?, ?it/s]"
      ]
     },
     "metadata": {},
     "output_type": "display_data"
    },
    {
     "data": {
      "application/vnd.jupyter.widget-view+json": {
       "model_id": "0d3629bf39ce40f58868e34183dbb000",
       "version_major": 2,
       "version_minor": 0
      },
      "text/plain": [
       "Calculating Metrics:   0%|          | 0/9 [00:00<?, ?it/s]"
      ]
     },
     "metadata": {},
     "output_type": "display_data"
    },
    {
     "data": {
      "application/vnd.jupyter.widget-view+json": {
       "model_id": "2d4c5baf326e45c3918e83887258d892",
       "version_major": 2,
       "version_minor": 0
      },
      "text/plain": [
       "Calculating Metrics:   0%|          | 0/8 [00:00<?, ?it/s]"
      ]
     },
     "metadata": {},
     "output_type": "display_data"
    },
    {
     "data": {
      "application/vnd.jupyter.widget-view+json": {
       "model_id": "318ed3010e6d403ba495f1812a0ca2a2",
       "version_major": 2,
       "version_minor": 0
      },
      "text/plain": [
       "Calculating Metrics:   0%|          | 0/1 [00:00<?, ?it/s]"
      ]
     },
     "metadata": {},
     "output_type": "display_data"
    },
    {
     "data": {
      "application/vnd.jupyter.widget-view+json": {
       "model_id": "ec2d42ab83e24f24a38becdf04c4bff6",
       "version_major": 2,
       "version_minor": 0
      },
      "text/plain": [
       "Calculating Metrics:   0%|          | 0/2 [00:00<?, ?it/s]"
      ]
     },
     "metadata": {},
     "output_type": "display_data"
    },
    {
     "data": {
      "application/vnd.jupyter.widget-view+json": {
       "model_id": "bc49a174407542898365c493b3fcc285",
       "version_major": 2,
       "version_minor": 0
      },
      "text/plain": [
       "Calculating Metrics:   0%|          | 0/8 [00:00<?, ?it/s]"
      ]
     },
     "metadata": {},
     "output_type": "display_data"
    },
    {
     "data": {
      "text/plain": [
       "{\n",
       "  \"success\": true,\n",
       "  \"result\": {\n",
       "    \"element_count\": 5027,\n",
       "    \"unexpected_count\": 0,\n",
       "    \"unexpected_percent\": 0.0,\n",
       "    \"partial_unexpected_list\": [],\n",
       "    \"missing_count\": 0,\n",
       "    \"missing_percent\": 0.0,\n",
       "    \"unexpected_percent_total\": 0.0,\n",
       "    \"unexpected_percent_nonmissing\": 0.0\n",
       "  },\n",
       "  \"meta\": {},\n",
       "  \"exception_info\": {\n",
       "    \"raised_exception\": false,\n",
       "    \"exception_traceback\": null,\n",
       "    \"exception_message\": null\n",
       "  }\n",
       "}"
      ]
     },
     "execution_count": 2,
     "metadata": {},
     "output_type": "execute_result"
    }
   ],
   "source": [
    "# Define expectations\n",
    "validator.expect_column_to_exist(\"text\")\n",
    "validator.expect_column_to_exist(\"label\")\n",
    "\n",
    "validator.expect_column_values_to_not_be_null(\"text\")\n",
    "validator.expect_column_values_to_not_be_null(\"label\")\n",
    "\n",
    "validator.expect_column_values_to_be_of_type(\"text\", \"str\")\n",
    "validator.expect_column_values_to_be_of_type(\"label\", \"int\")\n",
    "\n",
    "validator.expect_column_value_lengths_to_be_between(\"text\", min_value=1)  # No empty strings allowed\n",
    "\n",
    "validator.expect_column_values_to_be_in_set(\"label\", [0, 1, 2])\n",
    "\n",
    "validator.expect_table_row_count_to_be_between(min_value=1)  # Ensure the table has rows\n",
    "\n",
    "validator.expect_table_columns_to_match_ordered_list([\"text\", \"label\"])\n",
    "\n",
    "validator.expect_column_values_to_be_unique(\"text\")  # Optional: if each text is expected to be unique\n",
    "\n",
    "# Check for duplicates\n",
    "# validator.expect_table_row_count_to_equal(validator.drop_duplicates().shape[0])"
   ]
  },
  {
   "cell_type": "code",
   "execution_count": 3,
   "metadata": {},
   "outputs": [],
   "source": [
    "# Save expectations to suite\n",
    "validator.save_expectation_suite(discard_failed_expectations=False)"
   ]
  },
  {
   "cell_type": "code",
   "execution_count": 4,
   "metadata": {},
   "outputs": [],
   "source": [
    "# validate expectations\n",
    "checkpoint = context.add_or_update_checkpoint(\n",
    "    name = \"initial_data_validation_checkpoint\",\n",
    "    validations=[\n",
    "        {\n",
    "            \"batch_request\":batch_request,\n",
    "            \"expectation_suite_name\" : suite_name\n",
    "        }\n",
    "    ]\n",
    ")"
   ]
  },
  {
   "cell_type": "code",
   "execution_count": 5,
   "metadata": {},
   "outputs": [
    {
     "data": {
      "application/vnd.jupyter.widget-view+json": {
       "model_id": "4771504eb52f4674844ebaa5bd132b96",
       "version_major": 2,
       "version_minor": 0
      },
      "text/plain": [
       "Calculating Metrics:   0%|          | 0/34 [00:00<?, ?it/s]"
      ]
     },
     "metadata": {},
     "output_type": "display_data"
    },
    {
     "name": "stdout",
     "output_type": "stream",
     "text": [
      "Validation success: True\n",
      "Expectation expect_column_to_exist: SUCCESS\n",
      "Expectation expect_column_values_to_not_be_null: SUCCESS\n",
      "Expectation expect_column_values_to_be_of_type: SUCCESS\n",
      "Expectation expect_column_value_lengths_to_be_between: SUCCESS\n",
      "Expectation expect_column_values_to_be_unique: SUCCESS\n",
      "Expectation expect_column_to_exist: SUCCESS\n",
      "Expectation expect_column_values_to_not_be_null: SUCCESS\n",
      "Expectation expect_column_values_to_be_of_type: SUCCESS\n",
      "Expectation expect_column_values_to_be_in_set: SUCCESS\n",
      "Expectation expect_table_row_count_to_be_between: SUCCESS\n",
      "Expectation expect_table_columns_to_match_ordered_list: SUCCESS\n"
     ]
    }
   ],
   "source": [
    "results = context.run_checkpoint(checkpoint_name=\"initial_data_validation_checkpoint\")\n",
    "\n",
    "# Print detailed validation results\n",
    "print(\"Validation success:\", results.success)\n",
    "for result in results[\"run_results\"].values():\n",
    "    validation_result = result[\"validation_result\"]\n",
    "    for res in validation_result[\"results\"]:\n",
    "        expectation = res[\"expectation_config\"][\"expectation_type\"]\n",
    "        success = res[\"success\"]\n",
    "        print(f\"Expectation {expectation}: {'SUCCESS' if success else 'FAILURE'}\")\n",
    "        if not success:\n",
    "            print(f\"Details: {res['result']}\")"
   ]
  },
  {
   "cell_type": "code",
   "execution_count": 3,
   "metadata": {},
   "outputs": [
    {
     "data": {
      "application/vnd.jupyter.widget-view+json": {
       "model_id": "8bc00be4369541cbba00c4ee96aa0141",
       "version_major": 2,
       "version_minor": 0
      },
      "text/plain": [
       "Calculating Metrics:   0%|          | 0/34 [00:00<?, ?it/s]"
      ]
     },
     "metadata": {},
     "output_type": "display_data"
    },
    {
     "name": "stdout",
     "output_type": "stream",
     "text": [
      "Validation success: True\n",
      "Expectation expect_column_to_exist: SUCCESS\n",
      "Expectation expect_column_values_to_not_be_null: SUCCESS\n",
      "Expectation expect_column_values_to_be_of_type: SUCCESS\n",
      "Expectation expect_column_value_lengths_to_be_between: SUCCESS\n",
      "Expectation expect_column_values_to_be_unique: SUCCESS\n",
      "Expectation expect_column_to_exist: SUCCESS\n",
      "Expectation expect_column_values_to_not_be_null: SUCCESS\n",
      "Expectation expect_column_values_to_be_of_type: SUCCESS\n",
      "Expectation expect_column_values_to_be_in_set: SUCCESS\n",
      "Expectation expect_table_row_count_to_be_between: SUCCESS\n",
      "Expectation expect_table_columns_to_match_ordered_list: SUCCESS\n"
     ]
    }
   ],
   "source": [
    "import great_expectations as gx\n",
    "from great_expectations.data_context import FileDataContext\n",
    "import pandas as pd\n",
    "import os\n",
    "\n",
    "context = gx.get_context(project_root_dir = \"../services\")\n",
    "results = context.run_checkpoint(checkpoint_name=\"initial_data_validation_checkpoint\")\n",
    "\n",
    "# Print detailed validation results\n",
    "print(\"Validation success:\", results.success)\n",
    "for result in results[\"run_results\"].values():\n",
    "    validation_result = result[\"validation_result\"]\n",
    "    for res in validation_result[\"results\"]:\n",
    "        expectation = res[\"expectation_config\"][\"expectation_type\"]\n",
    "        success = res[\"success\"]\n",
    "        print(f\"Expectation {expectation}: {'SUCCESS' if success else 'FAILURE'}\")\n",
    "        if not success:\n",
    "            print(f\"Details: {res['result']}\")"
   ]
  },
  {
   "cell_type": "code",
   "execution_count": null,
   "metadata": {},
   "outputs": [],
   "source": []
  }
 ],
 "metadata": {
  "kernelspec": {
   "display_name": ".venv",
   "language": "python",
   "name": "python3"
  },
  "language_info": {
   "codemirror_mode": {
    "name": "ipython",
    "version": 3
   },
   "file_extension": ".py",
   "mimetype": "text/x-python",
   "name": "python",
   "nbconvert_exporter": "python",
   "pygments_lexer": "ipython3",
   "version": "3.12.6"
  }
 },
 "nbformat": 4,
 "nbformat_minor": 2
}
